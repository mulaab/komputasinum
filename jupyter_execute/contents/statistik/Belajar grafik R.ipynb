{
 "cells": [
  {
   "cell_type": "code",
   "execution_count": 1,
   "id": "59e48078-f7e2-4e97-b7cf-dc20cf9feabb",
   "metadata": {},
   "outputs": [
    {
     "ename": "ERROR",
     "evalue": "Error in library(r2d3): there is no package called ‘r2d3’\n",
     "output_type": "error",
     "traceback": [
      "Error in library(r2d3): there is no package called ‘r2d3’\nTraceback:\n",
      "1. library(r2d3)"
     ]
    }
   ],
   "source": [
    "library(r2d3)\n",
    "r2d3(data=c(0.3, 0.6, 0.8, 0.95, 0.40, 0.20), script = \"graph.js\")"
   ]
  },
  {
   "cell_type": "code",
   "execution_count": null,
   "id": "7b703d2b-c887-43a5-ae45-ea247893fe92",
   "metadata": {},
   "outputs": [],
   "source": []
  }
 ],
 "metadata": {
  "kernelspec": {
   "display_name": "R",
   "language": "R",
   "name": "ir"
  },
  "language_info": {
   "codemirror_mode": "r",
   "file_extension": ".r",
   "mimetype": "text/x-r-source",
   "name": "R",
   "pygments_lexer": "r",
   "version": "4.2.1"
  }
 },
 "nbformat": 4,
 "nbformat_minor": 5
}